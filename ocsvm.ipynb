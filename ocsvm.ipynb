{
 "cells": [
  {
   "cell_type": "markdown",
   "id": "sublime-diary",
   "metadata": {},
   "source": [
    "# Imports"
   ]
  },
  {
   "cell_type": "code",
   "execution_count": 1,
   "id": "traditional-enterprise",
   "metadata": {
    "ExecuteTime": {
     "end_time": "2021-04-04T01:36:33.465446Z",
     "start_time": "2021-04-04T01:36:32.972779Z"
    }
   },
   "outputs": [],
   "source": [
    "#imports\n",
    "import numpy as np\n",
    "import pandas as pd \n",
    "import math as mt\n",
    "from sklearn.model_selection import StratifiedKFold, GridSearchCV\n",
    "from sklearn.svm import OneClassSVM\n",
    "from sklearn.metrics import classification_report\n",
    "\n",
    "import warnings\n",
    "warnings.filterwarnings('ignore')"
   ]
  },
  {
   "cell_type": "markdown",
   "id": "welsh-gibraltar",
   "metadata": {},
   "source": [
    "# Reading and preprocessing data"
   ]
  },
  {
   "cell_type": "code",
   "execution_count": 2,
   "id": "falling-order",
   "metadata": {
    "ExecuteTime": {
     "end_time": "2021-04-04T01:36:33.525779Z",
     "start_time": "2021-04-04T01:36:33.466612Z"
    }
   },
   "outputs": [],
   "source": [
    "#reading data\n",
    "data_path = \"/home/romulo/projects/tuberculosis_project/data/\"\n",
    "\n",
    "array_cxr = np.load(data_path + 'features_cxr.npy')\n",
    "array_labels = np.load(data_path + 'labels_cxr.npy')"
   ]
  },
  {
   "cell_type": "code",
   "execution_count": 3,
   "id": "existing-shell",
   "metadata": {
    "ExecuteTime": {
     "end_time": "2021-04-04T01:36:33.534124Z",
     "start_time": "2021-04-04T01:36:33.527380Z"
    }
   },
   "outputs": [
    {
     "data": {
      "text/plain": [
       "array([[0.11764706, 0.02745098, 0.03529412, ..., 0.37647059, 0.36862745,\n",
       "        0.37647059],\n",
       "       [0.19215686, 0.10196078, 0.11372549, ..., 0.51372549, 0.52156863,\n",
       "        0.53333333],\n",
       "       [0.35686275, 0.28627451, 0.30588235, ..., 0.8745098 , 0.89019608,\n",
       "        0.90980392]])"
      ]
     },
     "execution_count": 3,
     "metadata": {},
     "output_type": "execute_result"
    }
   ],
   "source": [
    "array_cxr[0:3]"
   ]
  },
  {
   "cell_type": "code",
   "execution_count": 4,
   "id": "together-effectiveness",
   "metadata": {
    "ExecuteTime": {
     "end_time": "2021-04-04T01:36:33.538845Z",
     "start_time": "2021-04-04T01:36:33.535786Z"
    }
   },
   "outputs": [
    {
     "data": {
      "text/plain": [
       "array([False, False, False])"
      ]
     },
     "execution_count": 4,
     "metadata": {},
     "output_type": "execute_result"
    }
   ],
   "source": [
    "array_labels[0:3]"
   ]
  },
  {
   "cell_type": "code",
   "execution_count": 5,
   "id": "desperate-impression",
   "metadata": {
    "ExecuteTime": {
     "end_time": "2021-04-04T01:36:33.542270Z",
     "start_time": "2021-04-04T01:36:33.540189Z"
    }
   },
   "outputs": [],
   "source": [
    "#changing from false and positive to 0 and 1\n",
    "array_labels = array_labels.astype(int)"
   ]
  },
  {
   "cell_type": "code",
   "execution_count": 6,
   "id": "decreased-miniature",
   "metadata": {
    "ExecuteTime": {
     "end_time": "2021-04-04T01:36:33.545995Z",
     "start_time": "2021-04-04T01:36:33.543374Z"
    }
   },
   "outputs": [],
   "source": [
    "#changing 0 to -1\n",
    "for z in range(len(array_labels)):\n",
    "    if array_labels[z] == 0:\n",
    "        array_labels[z] = -1"
   ]
  },
  {
   "cell_type": "markdown",
   "id": "republican-cradle",
   "metadata": {},
   "source": [
    "# Training "
   ]
  },
  {
   "cell_type": "markdown",
   "id": "necessary-flood",
   "metadata": {},
   "source": [
    "## Some definitions "
   ]
  },
  {
   "cell_type": "code",
   "execution_count": 7,
   "id": "qualified-authority",
   "metadata": {
    "ExecuteTime": {
     "end_time": "2021-04-04T01:36:33.550479Z",
     "start_time": "2021-04-04T01:36:33.547062Z"
    }
   },
   "outputs": [],
   "source": [
    "def split_folds(data, label, n_splits, seed, shuffle):\n",
    "\n",
    "    '''\n",
    "    Split into different train, validation and test folds\n",
    "    \n",
    "    '''\n",
    "    X_train, X_test, y_train, y_test = [], [], [], []\n",
    "\n",
    "    kf = StratifiedKFold(n_splits=n_splits, random_state=seed, shuffle=shuffle)\n",
    "\n",
    "    for train_index, test_index in kf.split(data, label):\n",
    "        X_train.append(data[train_index])\n",
    "        X_test.append(data[test_index])\n",
    "        y_train.append(label[train_index])\n",
    "        y_test.append(label[test_index])\n",
    "        \n",
    "    return X_train, X_test, y_train, y_test"
   ]
  },
  {
   "cell_type": "code",
   "execution_count": 8,
   "id": "champion-feeling",
   "metadata": {
    "ExecuteTime": {
     "end_time": "2021-04-04T01:36:33.554949Z",
     "start_time": "2021-04-04T01:36:33.552329Z"
    }
   },
   "outputs": [],
   "source": [
    "def sp(classification):\n",
    "    \n",
    "    '''\n",
    "    sp metric\n",
    "    '''\n",
    "    sp_i = (classification['1']['recall'] + classification['-1']['recall']) / 2\n",
    "    sp_i = sp_i * mt.sqrt(classification['1']['recall'] * classification['-1']['recall'])\n",
    "    sp_i = mt.sqrt(sp_i)\n",
    "    \n",
    "    return sp_i"
   ]
  },
  {
   "cell_type": "markdown",
   "id": "flush-sweden",
   "metadata": {},
   "source": [
    "## OCSVM params for grid search "
   ]
  },
  {
   "cell_type": "code",
   "execution_count": 9,
   "id": "finnish-mortgage",
   "metadata": {
    "ExecuteTime": {
     "end_time": "2021-04-04T01:36:33.559347Z",
     "start_time": "2021-04-04T01:36:33.556726Z"
    }
   },
   "outputs": [],
   "source": [
    "params_grid = {\n",
    "    'nu': [0.1, 0.5, 0.9],\n",
    "    'gamma': [0.01, 'auto'],\n",
    "    'kernel': ['rbf']}\n",
    "\n",
    "# params_grid = {\n",
    "#     'nu': [0.1, 0.9],\n",
    "#     'gamma': [0.01],\n",
    "#     'kernel': ['rbf']}"
   ]
  },
  {
   "cell_type": "markdown",
   "id": "valid-cream",
   "metadata": {},
   "source": [
    "## Training itself "
   ]
  },
  {
   "cell_type": "code",
   "execution_count": 10,
   "id": "transparent-consensus",
   "metadata": {
    "ExecuteTime": {
     "end_time": "2021-04-04T01:36:33.867917Z",
     "start_time": "2021-04-04T01:36:33.560760Z"
    }
   },
   "outputs": [],
   "source": [
    "#creation of the first train and test fold\n",
    "n_splits = 5\n",
    "seed = 0\n",
    "shuffle = True\n",
    "\n",
    "X_train, X_test, y_train, y_test = split_folds(array_cxr, array_labels, n_splits, seed, True)"
   ]
  },
  {
   "cell_type": "code",
   "execution_count": 11,
   "id": "honey-bermuda",
   "metadata": {
    "ExecuteTime": {
     "end_time": "2021-04-04T01:36:33.883961Z",
     "start_time": "2021-04-04T01:36:33.869016Z"
    }
   },
   "outputs": [],
   "source": [
    "class fold():\n",
    "    '''\n",
    "    Fold class, to be easier to perform the calculations\n",
    "    '''\n",
    "    \n",
    "    def __init__(self, \n",
    "                 data_train,\n",
    "                 data_test,\n",
    "                 label_train,\n",
    "                 label_test,\n",
    "                 seed,\n",
    "                 params_grid,\n",
    "                 shuffle,\n",
    "                 n_splits,\n",
    "                 i):\n",
    "        \n",
    "        self.X_train = data_train\n",
    "        self.X_test = data_test\n",
    "        self.y_train = label_train\n",
    "        self.y_test = label_test\n",
    "        self.name = str(i)\n",
    "        \n",
    "        self.sensitivity_mean = 0\n",
    "        self.specificity_mean = 0\n",
    "        self.sp_mean = 0\n",
    "        self.sensitivity_std = 0\n",
    "        self.specificity_std = 0\n",
    "        self.sp_std = 0\n",
    "        \n",
    "        self.best_params = 0\n",
    "        \n",
    "        self.X_train_folds = []\n",
    "        self.X_cv_folds = []\n",
    "        self.y_train_folds = []\n",
    "        self.y_cv_folds = []\n",
    "        \n",
    "    def split_folds(self, n_splits, shuffle):\n",
    "        \n",
    "        kf = StratifiedKFold(n_splits=n_splits, random_state=seed, shuffle=shuffle)\n",
    "\n",
    "        for train_index, cv_index in kf.split(self.X_train, self.y_train):\n",
    "            self.X_train_folds.append(self.X_train[train_index])\n",
    "            self.X_cv_folds.append(self.X_train[cv_index])\n",
    "            self.y_train_folds.append(self.y_train[train_index])\n",
    "            self.y_cv_folds.append(self.y_train[cv_index])\n",
    "            \n",
    "    def filter_samples(self, X_train, y_train, label):\n",
    "        \n",
    "        X_train = X_train[y_train == label]\n",
    "        \n",
    "        return X_train\n",
    "    \n",
    "    def gridsearch(self,params_grid, X_train, X_cv, y_cv, name, list_params):\n",
    "                \n",
    "        for nu in params_grid['nu']:\n",
    "            for gamma in params_grid['gamma']:\n",
    "                for kernel in params_grid['kernel']:\n",
    "                    #fitting the model\n",
    "                    model = OneClassSVM(nu=nu, kernel=kernel, gamma=gamma)\n",
    "                    model.fit(X_train)\n",
    "                    \n",
    "                    #original vs predicted\n",
    "                    y_true, y_pred = y_cv, model.predict(X_cv)\n",
    "                    \n",
    "                    #name of the fold + subfold + params\n",
    "                    name_and_param = name + '_nu_' + str(nu) + '_gamma_' + str(gamma) + '_kernel_' + str(kernel)\n",
    "                    \n",
    "                    #finding the right params object to append\n",
    "                    for params in list_params:\n",
    "                        if params.name == 'nu_' + str(nu) + '_gamma_' + str(gamma) + '_kernel_' + str(kernel):\n",
    "                            classification = classification_report(y_true, y_pred, output_dict=True)\n",
    "                            params.list_sensitivity.append(classification['1']['recall'])\n",
    "                            params.list_specificity.append(classification['-1']['recall'])\n",
    "                            params.list_sp.append(sp(classification))\n",
    "                    \n",
    "    def main_subfold(self, j, list_params):\n",
    "        '''\n",
    "        main for each subfold\n",
    "        '''\n",
    "        #name of the subfold\n",
    "        name = 'fold_' + self.name + '_subfold_' + str(j)\n",
    "        \n",
    "        #filtering\n",
    "        self.X_train_folds[j] = self.filter_samples(self.X_train_folds[j], self.y_train_folds[j], 1)\n",
    "        \n",
    "        #doing the gridsearch for each subfold\n",
    "        self.gridsearch(params_grid, self.X_train_folds[j], self.X_cv_folds[j], self.y_cv_folds[j], name, list_params)\n",
    "\n",
    "    def return_best_sp(self, list_params):\n",
    "        max = 0\n",
    "        for params in list_params:\n",
    "            if params.sp_mean > max:\n",
    "                max = params.sp_mean\n",
    "                self.best_params = params\n",
    "        \n",
    "    def main(self):\n",
    "        '''\n",
    "        main for each fold\n",
    "        '''\n",
    "        #split into n folds\n",
    "        self.split_folds(n_splits, shuffle)\n",
    "\n",
    "        #creating list with params:\n",
    "        #list with params objects\n",
    "        list_params = []\n",
    "        for nu in params_grid['nu']:\n",
    "            for gamma in params_grid['gamma']:\n",
    "                for kernel in params_grid['kernel']:\n",
    "                    #creating params object\n",
    "                    list_params.append(ParamsOCSVM(nu, gamma, kernel))\n",
    "        \n",
    "        #gridsearch in each subfold\n",
    "        for j in range(len(self.X_train_folds)):\n",
    "            self.main_subfold(j, list_params)\n",
    "            \n",
    "        #mean and std for each param\n",
    "        for param in list_params:\n",
    "            param.calculate_mean_std()\n",
    "            \n",
    "        #find the best params when it comes to sp\n",
    "        max = 0\n",
    "        for param in list_params:\n",
    "            if param.sp_mean > max:\n",
    "                max = param.sp_mean\n",
    "                print(param.name)\n",
    "                \n",
    "        self.return_best_sp(list_params)\n",
    "        \n",
    "        return self.best_params\n",
    "\n",
    "    def fit_and_testing_best_params(self):\n",
    "        '''\n",
    "        fitting and testing with the best params\n",
    "        \n",
    "        '''\n",
    "        model = OneClassSVM(nu=self.best_params.nu, gamma=self.best_params.gamma, kernel=self.best_params.kernel)\n",
    "        X_train = self.filter_samples(self.X_train, self.y_train, 1)\n",
    "        model.fit(X_train)\n",
    "        support_vectors = model.support_vectors_\n",
    "        \n",
    "        print('Results best training')\n",
    "        print('Best parameters are: ' + str(self.best_params.name))\n",
    "        print('Number of elements in training: ' + str(len(X_train)))\n",
    "        print('Number of support vectors: ' + str(len(support_vectors)))\n",
    "        \n",
    "        #predicting test data\n",
    "        y_true, y_pred = self.y_test, model.predict(self.X_test)\n",
    "        classification = classification_report(y_true, y_pred, output_dict=True)\n",
    "        sensitivity = (classification['1']['recall'])\n",
    "        specificity = (classification['-1']['recall'])\n",
    "        sp_ = (sp(classification))\n",
    "        \n",
    "        print('Results from testing')\n",
    "        print('Sensitivity: ' + str(sensitivity))\n",
    "        print('Specificity: ' + str(specificity))\n",
    "        print('Sp: ' + str(sp_))\n",
    "\n",
    "class ParamsOCSVM():\n",
    "    '''\n",
    "    Class of the ocsvm params\n",
    "    '''\n",
    "    \n",
    "    def __init__(self, nu, gamma, kernel):\n",
    "        \n",
    "        self.nu = nu\n",
    "        self.gamma = gamma\n",
    "        self.kernel = kernel\n",
    "        \n",
    "        self.name = 'nu_' + str(self.nu) + '_gamma_' + str(self.gamma) + '_kernel_' + str(self.kernel)\n",
    "        self.list_sp = []\n",
    "        self.list_sensitivity = []\n",
    "        self.list_specificity = []\n",
    "        \n",
    "        self.sp_std = 0\n",
    "        self.sp_mean = 0\n",
    "        self.sensitivity_std = 0\n",
    "        self.sensitivity_mean = 0\n",
    "        self.specificity_std = 0\n",
    "        self.specificity_mean = 0\n",
    "        \n",
    "    def calculate_mean_std(self):\n",
    "        #mean\n",
    "        self.sp_mean = np.mean(self.list_sp)\n",
    "        self.sensitivity_mean = np.mean(self.list_sensitivity)\n",
    "        self.specificity_mean = np.mean(self.list_specificity)\n",
    "        \n",
    "        #std\n",
    "        self.sp_std = np.std(self.list_sp)\n",
    "        self.sensitivity_std = np.std(self.list_sensitivity)\n",
    "        self.specificity_std = np.std(self.list_specificity)"
   ]
  },
  {
   "cell_type": "code",
   "execution_count": 12,
   "id": "premium-chart",
   "metadata": {
    "ExecuteTime": {
     "end_time": "2021-04-04T01:36:33.890135Z",
     "start_time": "2021-04-04T01:36:33.885510Z"
    }
   },
   "outputs": [],
   "source": [
    "#creating folds objects\n",
    "list_folds = []\n",
    "\n",
    "for i in range(n_splits):\n",
    "    list_folds.append(fold(X_train[i], X_test[i], y_train[i], y_test[i], seed, params_grid, shuffle, n_splits, i))"
   ]
  },
  {
   "cell_type": "code",
   "execution_count": 13,
   "id": "junior-going",
   "metadata": {
    "ExecuteTime": {
     "end_time": "2021-04-04T01:38:12.244730Z",
     "start_time": "2021-04-04T01:36:33.894544Z"
    }
   },
   "outputs": [
    {
     "name": "stdout",
     "output_type": "stream",
     "text": [
      "nu_0.1_gamma_auto_kernel_rbf\n",
      "nu_0.5_gamma_auto_kernel_rbf\n"
     ]
    }
   ],
   "source": [
    "best_params = list_folds[0].main()"
   ]
  },
  {
   "cell_type": "code",
   "execution_count": 14,
   "id": "qualified-criterion",
   "metadata": {
    "ExecuteTime": {
     "end_time": "2021-04-04T01:38:16.424263Z",
     "start_time": "2021-04-04T01:38:12.246208Z"
    }
   },
   "outputs": [
    {
     "name": "stdout",
     "output_type": "stream",
     "text": [
      "Results best training\n",
      "Best parameters are: nu_0.5_gamma_auto_kernel_rbf\n",
      "Number of elements in training: 269\n",
      "Number of support vectors: 137\n",
      "Results from testing\n",
      "Sensitivity: 0.40298507462686567\n",
      "Specificity: 0.7424242424242424\n",
      "Sp: 0.5596939782827451\n"
     ]
    }
   ],
   "source": [
    "list_folds[0].fit_and_testing_best_params()"
   ]
  }
 ],
 "metadata": {
  "kernelspec": {
   "display_name": "Python 3",
   "language": "python",
   "name": "python3"
  },
  "language_info": {
   "codemirror_mode": {
    "name": "ipython",
    "version": 3
   },
   "file_extension": ".py",
   "mimetype": "text/x-python",
   "name": "python",
   "nbconvert_exporter": "python",
   "pygments_lexer": "ipython3",
   "version": "3.8.5"
  },
  "toc": {
   "base_numbering": 1,
   "nav_menu": {},
   "number_sections": true,
   "sideBar": true,
   "skip_h1_title": false,
   "title_cell": "Table of Contents",
   "title_sidebar": "Contents",
   "toc_cell": false,
   "toc_position": {},
   "toc_section_display": true,
   "toc_window_display": false
  },
  "varInspector": {
   "cols": {
    "lenName": 16,
    "lenType": 16,
    "lenVar": 40
   },
   "kernels_config": {
    "python": {
     "delete_cmd_postfix": "",
     "delete_cmd_prefix": "del ",
     "library": "var_list.py",
     "varRefreshCmd": "print(var_dic_list())"
    },
    "r": {
     "delete_cmd_postfix": ") ",
     "delete_cmd_prefix": "rm(",
     "library": "var_list.r",
     "varRefreshCmd": "cat(var_dic_list()) "
    }
   },
   "types_to_exclude": [
    "module",
    "function",
    "builtin_function_or_method",
    "instance",
    "_Feature"
   ],
   "window_display": false
  }
 },
 "nbformat": 4,
 "nbformat_minor": 5
}
